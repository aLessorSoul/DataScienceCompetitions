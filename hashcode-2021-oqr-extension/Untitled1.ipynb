{
 "cells": [
  {
   "cell_type": "code",
   "execution_count": 2,
   "metadata": {},
   "outputs": [],
   "source": [
    "import pandas as pd\n",
    "import numpy as np"
   ]
  },
  {
   "cell_type": "code",
   "execution_count": 3,
   "metadata": {},
   "outputs": [],
   "source": [
    "class schedule_tuple:\n",
    "    def __init__(self, schedule_pairs):\n",
    "        self.schedule_pairs = schedule_pairs\n",
    "        self.roads = [i[0] for i in self.schedule_pairs]\n",
    "        self.time = [int(i[1]) for i in self.schedule_pairs]\n",
    "        self.cumulated_time = np.cumsum(self.time)\n",
    "        self.cycle = self.cumulated_time[-1]\n",
    "        self.schedule_queue = [] #to depleted next time\n",
    "        for r,t in self.schedule_pairs:\n",
    "            self.schedule_queue.extend([r] * int(t))\n",
    "    def get(self, t):\n",
    "        t = t % self.cycle\n",
    "        return self.schedule_queue[t]\n",
    "        \n",
    "class traffic_light:\n",
    "    def __init__(self, traffic_light_id, schedule_pairs):\n",
    "        self.id = traffic_light_id # traffic light id\n",
    "        self.schedule_pairs =  schedule_pairs#traffic light schedule, output of the simulation, in the form of pairs [(road1, 4),(road2, 4)]\n",
    "        self.schedule_tuple = schedule_tuple(schedule_pairs) #traffic light queue marking green light road at each time, not mutable\n",
    "    def get_current_road_w_green_light(self, t):\n",
    "        return self.schedule_tuple.get(t)\n",
    "    \n",
    "class road:\n",
    "    def __init__(self, road_id, travel_time):\n",
    "        self.id = road_id # road id\n",
    "        self.travel_time = travel_time\n",
    "        self.waiting_queue = [] #car queue waiting at the end\n",
    "        self.car_tracker = {} # car travelling (not waiting), distance_to_end pair\n",
    "    \n",
    "    def time_elapse_and_scoring(self):\n",
    "        gone_cars = []\n",
    "        n_cars_finished = 0\n",
    "        for car, length_left in self.car_tracker.items():\n",
    "            if length_left == 1:\n",
    "                if car.on_final_path:\n",
    "                    n_cars_finished += 1\n",
    "                else:\n",
    "                    self.waiting_queue.append(car)\n",
    "                gone_cars.append(car)\n",
    "            else:\n",
    "                self.car_tracker[car] = length_left - 1\n",
    "        for car in gone_cars:\n",
    "            self.car_tracker.pop(car)\n",
    "        return n_cars_finished\n",
    "    def get_first_car(self):\n",
    "        if self.waiting_queue == []:\n",
    "            return None\n",
    "        else:\n",
    "            first_car = self.waiting_queue[0]\n",
    "            self.waiting_queue = self.waiting_queue[1:]\n",
    "        return first_car\n",
    "    \n",
    "    def car_enter(self, car_object):\n",
    "        self.car_tracker[car_object] = self.travel_time\n",
    "        \n",
    "class car:\n",
    "    def __init__(self, car_id, path_list):\n",
    "        self.id = car_id # car id\n",
    "        self.path_list = path_list # entire path ordered, each element is the road name\n",
    "        self.current_path_number = 0 # serial number of current path, say 6 means travelling on / waiting at the end of the 6th path in path_list\n",
    "        self.num_paths = len(self.path_list)\n",
    "        self.on_final_path = False\n",
    "    \n",
    "    def make_crossing(self):\n",
    "        next_path = self.get_next_path()\n",
    "        next_path.car_enter(self)\n",
    "        self.current_path_number += 1\n",
    "        if self.current_path_number == self.num_paths - 1:\n",
    "            self.on_final_path = True\n",
    "\n",
    "    def init_on_road(self):\n",
    "        return self.path_list[0].car_enter(self)\n",
    "    \n",
    "    def get_next_path(self):\n",
    "        return self.path_list[self.current_path_number + 1]"
   ]
  },
  {
   "cell_type": "code",
   "execution_count": 4,
   "metadata": {},
   "outputs": [],
   "source": [
    "with open(\"hashcode.in\") as f:\n",
    "    D, I, S, V, F = tuple(int(temp) for temp in f.readline().split())\n",
    "    street_info = {}\n",
    "    for temp in range(S):\n",
    "        street_info[temp]=tuple(temp for temp in f.readline().split())\n",
    "    car_info = {}\n",
    "    for temp in range(V):\n",
    "        car_info[temp]=tuple(temp for temp in f.readline().split())"
   ]
  },
  {
   "cell_type": "code",
   "execution_count": 5,
   "metadata": {},
   "outputs": [],
   "source": [
    "street_info = pd.DataFrame.from_dict(street_info, orient = 'index',columns = ['start_intersection','end_intersection','street_name','travel_time']).set_index('street_name')\n",
    "for c in street_info.columns:\n",
    "    street_info[c] = street_info[c].astype(int)\n",
    "street_info['road_object'] = street_info.apply(lambda row: road(row.name, row.travel_time), axis = 1)\n",
    "street_info['end_light_schedule'] = np.ones(street_info.shape[0],).astype('int')"
   ]
  },
  {
   "cell_type": "code",
   "execution_count": 6,
   "metadata": {},
   "outputs": [],
   "source": [
    "car_info = pd.DataFrame.from_dict(car_info, orient = 'index',columns = ['n_streets'] + ['street_'+ str(i) for i in range(120)])\n",
    "car_info['path'] = car_info.apply(lambda x: [street_info['road_object'][i] for i in x[1:121]], axis = 1)\n",
    "car_info['car_object'] = car_info.apply(lambda row: car(row.name, row.path[:1]), axis = 1) #take only 1 road path for testing"
   ]
  },
  {
   "cell_type": "code",
   "execution_count": 7,
   "metadata": {},
   "outputs": [],
   "source": [
    "traffic_light_info = pd.DataFrame(street_info.groupby('end_intersection').apply(lambda x: list(x.road_object)), columns = ['enter_from'])\n",
    "traffic_light_info['exit_to'] = street_info.groupby('start_intersection').apply(lambda x: list(x.road_object))\n",
    "traffic_light_info['schedule'] = traffic_light_info['enter_from'].apply(lambda lst: [1 for i in lst])\n",
    "traffic_light_info['schedule_pairs'] = traffic_light_info.apply(lambda row: list(zip(row['enter_from'],row['schedule'])), axis = 1)\n",
    "traffic_light_info['traffic_light_object'] = traffic_light_info.apply(lambda row: traffic_light(row.name, row.schedule_pairs), axis = 1)\n",
    "#traffic_light_info.head()"
   ]
  },
  {
   "cell_type": "code",
   "execution_count": 8,
   "metadata": {
    "collapsed": true
   },
   "outputs": [
    {
     "ename": "NameError",
     "evalue": "name 't' is not defined",
     "output_type": "error",
     "traceback": [
      "\u001b[1;31m---------------------------------------------------------------------------\u001b[0m",
      "\u001b[1;31mNameError\u001b[0m                                 Traceback (most recent call last)",
      "\u001b[1;32m<ipython-input-8-efba6355a94e>\u001b[0m in \u001b[0;36m<module>\u001b[1;34m\u001b[0m\n\u001b[0;32m     12\u001b[0m             \u001b[1;32melse\u001b[0m\u001b[1;33m:\u001b[0m\u001b[1;33m\u001b[0m\u001b[1;33m\u001b[0m\u001b[0m\n\u001b[0;32m     13\u001b[0m                 \u001b[1;32mreturn\u001b[0m \u001b[1;36m0\u001b[0m\u001b[1;33m\u001b[0m\u001b[1;33m\u001b[0m\u001b[0m\n\u001b[1;32m---> 14\u001b[1;33m \u001b[0mtraffic_light_info\u001b[0m\u001b[1;33m.\u001b[0m\u001b[0mtraffic_light_object\u001b[0m\u001b[1;33m.\u001b[0m\u001b[0mapply\u001b[0m\u001b[1;33m(\u001b[0m\u001b[0mtraffic_light_allowing_passage\u001b[0m\u001b[1;33m)\u001b[0m\u001b[1;33m.\u001b[0m\u001b[0msum\u001b[0m\u001b[1;33m(\u001b[0m\u001b[1;33m)\u001b[0m\u001b[1;33m\u001b[0m\u001b[1;33m\u001b[0m\u001b[0m\n\u001b[0m",
      "\u001b[1;32m~\\anaconda3\\lib\\site-packages\\pandas\\core\\series.py\u001b[0m in \u001b[0;36mapply\u001b[1;34m(self, func, convert_dtype, args, **kwds)\u001b[0m\n\u001b[0;32m   4198\u001b[0m             \u001b[1;32melse\u001b[0m\u001b[1;33m:\u001b[0m\u001b[1;33m\u001b[0m\u001b[1;33m\u001b[0m\u001b[0m\n\u001b[0;32m   4199\u001b[0m                 \u001b[0mvalues\u001b[0m \u001b[1;33m=\u001b[0m \u001b[0mself\u001b[0m\u001b[1;33m.\u001b[0m\u001b[0mastype\u001b[0m\u001b[1;33m(\u001b[0m\u001b[0mobject\u001b[0m\u001b[1;33m)\u001b[0m\u001b[1;33m.\u001b[0m\u001b[0m_values\u001b[0m\u001b[1;33m\u001b[0m\u001b[1;33m\u001b[0m\u001b[0m\n\u001b[1;32m-> 4200\u001b[1;33m                 \u001b[0mmapped\u001b[0m \u001b[1;33m=\u001b[0m \u001b[0mlib\u001b[0m\u001b[1;33m.\u001b[0m\u001b[0mmap_infer\u001b[0m\u001b[1;33m(\u001b[0m\u001b[0mvalues\u001b[0m\u001b[1;33m,\u001b[0m \u001b[0mf\u001b[0m\u001b[1;33m,\u001b[0m \u001b[0mconvert\u001b[0m\u001b[1;33m=\u001b[0m\u001b[0mconvert_dtype\u001b[0m\u001b[1;33m)\u001b[0m\u001b[1;33m\u001b[0m\u001b[1;33m\u001b[0m\u001b[0m\n\u001b[0m\u001b[0;32m   4201\u001b[0m \u001b[1;33m\u001b[0m\u001b[0m\n\u001b[0;32m   4202\u001b[0m         \u001b[1;32mif\u001b[0m \u001b[0mlen\u001b[0m\u001b[1;33m(\u001b[0m\u001b[0mmapped\u001b[0m\u001b[1;33m)\u001b[0m \u001b[1;32mand\u001b[0m \u001b[0misinstance\u001b[0m\u001b[1;33m(\u001b[0m\u001b[0mmapped\u001b[0m\u001b[1;33m[\u001b[0m\u001b[1;36m0\u001b[0m\u001b[1;33m]\u001b[0m\u001b[1;33m,\u001b[0m \u001b[0mSeries\u001b[0m\u001b[1;33m)\u001b[0m\u001b[1;33m:\u001b[0m\u001b[1;33m\u001b[0m\u001b[1;33m\u001b[0m\u001b[0m\n",
      "\u001b[1;32mpandas\\_libs\\lib.pyx\u001b[0m in \u001b[0;36mpandas._libs.lib.map_infer\u001b[1;34m()\u001b[0m\n",
      "\u001b[1;32m<ipython-input-8-efba6355a94e>\u001b[0m in \u001b[0;36mtraffic_light_allowing_passage\u001b[1;34m(light)\u001b[0m\n\u001b[0;32m      1\u001b[0m \u001b[1;32mdef\u001b[0m \u001b[0mtraffic_light_allowing_passage\u001b[0m\u001b[1;33m(\u001b[0m\u001b[0mlight\u001b[0m\u001b[1;33m)\u001b[0m\u001b[1;33m:\u001b[0m\u001b[1;33m\u001b[0m\u001b[1;33m\u001b[0m\u001b[0m\n\u001b[1;32m----> 2\u001b[1;33m     \u001b[0mroad_w_green_light\u001b[0m \u001b[1;33m=\u001b[0m \u001b[0mlight\u001b[0m\u001b[1;33m.\u001b[0m\u001b[0mget_current_road_w_green_light\u001b[0m\u001b[1;33m(\u001b[0m\u001b[0mt\u001b[0m\u001b[1;33m)\u001b[0m\u001b[1;33m\u001b[0m\u001b[1;33m\u001b[0m\u001b[0m\n\u001b[0m\u001b[0;32m      3\u001b[0m     \u001b[0mcrossing_car\u001b[0m \u001b[1;33m=\u001b[0m \u001b[0mroad_w_green_light\u001b[0m\u001b[1;33m.\u001b[0m\u001b[0mget_first_car\u001b[0m\u001b[1;33m(\u001b[0m\u001b[1;33m)\u001b[0m \u001b[1;31m#find the car object\u001b[0m\u001b[1;33m\u001b[0m\u001b[1;33m\u001b[0m\u001b[0m\n\u001b[0;32m      4\u001b[0m     \u001b[1;32mif\u001b[0m \u001b[0mcrossing_car\u001b[0m \u001b[1;32mis\u001b[0m \u001b[1;32mNone\u001b[0m\u001b[1;33m:\u001b[0m\u001b[1;33m\u001b[0m\u001b[1;33m\u001b[0m\u001b[0m\n\u001b[0;32m      5\u001b[0m         \u001b[1;32mreturn\u001b[0m \u001b[1;36m0\u001b[0m\u001b[1;33m\u001b[0m\u001b[1;33m\u001b[0m\u001b[0m\n",
      "\u001b[1;31mNameError\u001b[0m: name 't' is not defined"
     ]
    }
   ],
   "source": [
    "def traffic_light_allowing_passage(light):\n",
    "    road_w_green_light = light.get_current_road_w_green_light(t)\n",
    "    crossing_car = road_w_green_light.get_first_car() #find the car object\n",
    "    if crossing_car is None:\n",
    "        return 0\n",
    "    else:\n",
    "        crossing_car.make_crossing()\n",
    "        if crossing_car.is_finished:\n",
    "            cars_on_the_road.remove(crossing_car)\n",
    "            if t <= D:\n",
    "                return F + (D - t)# scores obtained\n",
    "            else:\n",
    "                return 0\n",
    "#traffic_light_info.traffic_light_object.apply(traffic_light_allowing_passage).sum()"
   ]
  },
  {
   "cell_type": "code",
   "execution_count": null,
   "metadata": {},
   "outputs": [],
   "source": [
    "# pseudu code\n",
    "t= 0 \n",
    "cars_on_the_road = list(car_info.car_object)#all cars\n",
    "score = 0\n",
    "car_info.car_object.apply(lambda car: car.init_on_road())\n",
    "print('all cars on the road')\n",
    "while cars_on_the_road != [] and t <= D:\n",
    "    for light in traffic_light_info.traffic_light_object.apply():\n",
    "        road_w_green_light = light.get_current_road_w_green_light(t)\n",
    "        crossing_car = road_w_green_light.get_first_car() #find the car object\n",
    "        if crossing_car is None:\n",
    "            continue\n",
    "        else:\n",
    "            crossing_car.make_crossing()\n",
    "            #print('working on car:', crossing_car)\n",
    "\n",
    "    street_info.road_object:\n",
    "        road.time_elapse_and_scoring()\n",
    "    t += 1"
   ]
  },
  {
   "cell_type": "code",
   "execution_count": null,
   "metadata": {},
   "outputs": [],
   "source": []
  },
  {
   "cell_type": "code",
   "execution_count": null,
   "metadata": {},
   "outputs": [],
   "source": [
    "score"
   ]
  },
  {
   "cell_type": "code",
   "execution_count": null,
   "metadata": {},
   "outputs": [],
   "source": []
  },
  {
   "cell_type": "code",
   "execution_count": null,
   "metadata": {},
   "outputs": [],
   "source": [
    "traffic_light_info['object'] = traffic_light_info.apply(lambda row: traffic_light(row.name, row.entering_from, row.exit_to, row.schedule_pairs), axis = 1)\n",
    "traffic_light_info['object'].apply(lambda x: x.initialize())\n",
    "car_info['path'] = car_info.apply(lambda x: list(x[1:121]), axis = 1)\n",
    "car_info['path_pairs'] = car_info['path'].apply(lambda lst: [tuple([i,street_info['travel_time'][i]]) for i in lst])\n",
    "car_info['object'] = car_info.apply(lambda row: car(row.name, row.path, row.path_pairs), axis = 1)\n",
    "car_info['object'].apply(lambda x: x.initialize())\n",
    "c = car(car_info.index[0], car_info['path'][0][:1], car_info['path_pairs'][0][:1])"
   ]
  }
 ],
 "metadata": {
  "kernelspec": {
   "display_name": "Python 3",
   "language": "python",
   "name": "python3"
  },
  "language_info": {
   "codemirror_mode": {
    "name": "ipython",
    "version": 3
   },
   "file_extension": ".py",
   "mimetype": "text/x-python",
   "name": "python",
   "nbconvert_exporter": "python",
   "pygments_lexer": "ipython3",
   "version": "3.8.5"
  }
 },
 "nbformat": 4,
 "nbformat_minor": 4
}
